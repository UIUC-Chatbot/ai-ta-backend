{
 "cells": [
  {
   "cell_type": "code",
   "execution_count": null,
   "metadata": {},
   "outputs": [],
   "source": [
    "from unstructured.partition.auto import partition\n",
    "\n",
    "elements = partition(filename=\"example-docs/eml/fake-email.eml\")\n",
    "print(\"\\n\\n\".join([str(el) for el in elements]))"
   ]
  },
  {
   "cell_type": "code",
   "execution_count": null,
   "metadata": {},
   "outputs": [],
   "source": []
  },
  {
   "cell_type": "code",
   "execution_count": null,
   "metadata": {},
   "outputs": [],
   "source": [
    "import os\n",
    "\n",
    "from unstructured_ingest.v2.pipeline.pipeline import Pipeline\n",
    "from unstructured_ingest.v2.interfaces import ProcessorConfig\n",
    "from unstructured_ingest.v2.processes.connectors.fsspec.s3 import (\n",
    "    S3IndexerConfig,\n",
    "    S3DownloaderConfig,\n",
    "    S3ConnectionConfig,\n",
    "    S3AccessConfig\n",
    ")\n",
    "from unstructured_ingest.v2.processes.partitioner import PartitionerConfig\n",
    "from unstructured_ingest.v2.processes.chunker import ChunkerConfig\n",
    "from unstructured_ingest.v2.processes.embedder import EmbedderConfig\n",
    "from unstructured_ingest.v2.processes.connectors.local import LocalUploaderConfig\n",
    "\n",
    "from load_dotenv import load_dotenv\n",
    "load_dotenv()\n",
    "# Chunking and embedding are optional.\n",
    "\n",
    "\n",
    "if __name__ == \"__main__\":\n",
    "    print(os.getenv(\"AWS_S3_URL\"))\n",
    "    print(os.getenv(\"AWS_ACCESS_KEY_ID\"))\n",
    "    print(os.getenv(\"AWS_SECRET_ACCESS_KEY\"))\n",
    "    print(os.getenv(\"MINIO_API_ENDPOINT\"))\n",
    "\n",
    "\n",
    "    Pipeline.from_configs(\n",
    "        context=ProcessorConfig(),\n",
    "        indexer_config=S3IndexerConfig(remote_url=os.getenv(\"AWS_S3_URL\")),\n",
    "        downloader_config=S3DownloaderConfig(download_dir=os.getenv(\"LOCAL_FILE_DOWNLOAD_DIR\")),\n",
    "        source_connection_config=S3ConnectionConfig(\n",
    "            access_config=S3AccessConfig(\n",
    "                key=os.getenv(\"AWS_ACCESS_KEY_ID\"),\n",
    "                secret=os.getenv(\"AWS_SECRET_ACCESS_KEY\")\n",
    "            ),\n",
    "            endpoint_url=os.getenv(\"MINIO_API_ENDPOINT\")\n",
    "        ),\n",
    "        partitioner_config=PartitionerConfig(\n",
    "            partition_by_api=True,\n",
    "            api_key=os.getenv(\"UNSTRUCTURED_API_KEY\"),\n",
    "            partition_endpoint=os.getenv(\"UNSTRUCTURED_API_URL\"),\n",
    "            strategy=\"hi_res\",\n",
    "            additional_partition_args={\n",
    "                \"split_pdf_page\": True,\n",
    "                \"split_pdf_allow_failed\": True,\n",
    "                \"split_pdf_concurrency_level\": 15\n",
    "            }\n",
    "        ),\n",
    "        chunker_config=ChunkerConfig(chunking_strategy=\"by_title\"),\n",
    "        # embedder_config=EmbedderConfig(embedding_provider=\"huggingface\"),\n",
    "        uploader_config=LocalUploaderConfig(output_dir=os.getenv(\"LOCAL_FILE_OUTPUT_DIR\"))        \n",
    "\n",
    "        # destination_connection_config=S3ConnectionConfig(\n",
    "        #     access_config=S3AccessConfig(\n",
    "        #         key=os.getenv(\"AWS_ACCESS_KEY_ID\"),\n",
    "        #         secret=os.getenv(\"AWS_SECRET_ACCESS_KEY\")\n",
    "        #     )\n",
    "        # ),\n",
    "        # uploader_config=S3UploaderConfig(remote_url=os.getenv(\"AWS_S3_URL\"))\n",
    "    ).run()"
   ]
  },
  {
   "cell_type": "code",
   "execution_count": null,
   "metadata": {},
   "outputs": [],
   "source": []
  }
 ],
 "metadata": {
  "kernelspec": {
   "display_name": "unstructured",
   "language": "python",
   "name": "python3"
  },
  "language_info": {
   "codemirror_mode": {
    "name": "ipython",
    "version": 3
   },
   "file_extension": ".py",
   "mimetype": "text/x-python",
   "name": "python",
   "nbconvert_exporter": "python",
   "pygments_lexer": "ipython3",
   "version": "3.12.9"
  }
 },
 "nbformat": 4,
 "nbformat_minor": 2
}
